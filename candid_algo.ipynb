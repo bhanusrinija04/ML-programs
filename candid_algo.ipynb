{
  "nbformat": 4,
  "nbformat_minor": 0,
  "metadata": {
    "colab": {
      "provenance": [],
      "authorship_tag": "ABX9TyPjkTs4KEycOCV+QhmqhmSH",
      "include_colab_link": true
    },
    "kernelspec": {
      "name": "python3",
      "display_name": "Python 3"
    },
    "language_info": {
      "name": "python"
    }
  },
  "cells": [
    {
      "cell_type": "markdown",
      "metadata": {
        "id": "view-in-github",
        "colab_type": "text"
      },
      "source": [
        "<a href=\"https://colab.research.google.com/github/bhanusrinija04/ML-programs/blob/main/candid_algo.ipynb\" target=\"_parent\"><img src=\"https://colab.research.google.com/assets/colab-badge.svg\" alt=\"Open In Colab\"/></a>"
      ]
    },
    {
      "cell_type": "code",
      "execution_count": 9,
      "metadata": {
        "colab": {
          "base_uri": "https://localhost:8080/"
        },
        "id": "4hQehh48uUFc",
        "outputId": "51ff90cc-df47-4e30-d935-ff9a5da21359"
      },
      "outputs": [
        {
          "output_type": "stream",
          "name": "stdout",
          "text": [
            "Initialization of specific_h \n",
            " ['sunny' 'warm' 'normal' 'strong' 'warm' 'same']\n",
            "Initialization of general_h \n",
            " [['?', '?', '?', '?', '?', '?'], ['?', '?', '?', '?', '?', '?'], ['?', '?', '?', '?', '?', '?'], ['?', '?', '?', '?', '?', '?'], ['?', '?', '?', '?', '?', '?'], ['?', '?', '?', '?', '?', '?']]\n",
            "Step 1\n",
            "['sunny' 'warm' 'normal' 'strong' 'warm' 'same']\n",
            "[['?', '?', '?', '?', '?', '?'], ['?', '?', '?', '?', '?', '?'], ['?', '?', '?', '?', '?', '?'], ['?', '?', '?', '?', '?', '?'], ['?', '?', '?', '?', '?', '?'], ['?', '?', '?', '?', '?', '?']]\n",
            "\n",
            "\n",
            "\n",
            "\n",
            "Step 2\n",
            "['sunny' 'warm' '?' 'strong' 'warm' 'same']\n",
            "[['?', '?', '?', '?', '?', '?'], ['?', '?', '?', '?', '?', '?'], ['?', '?', '?', '?', '?', '?'], ['?', '?', '?', '?', '?', '?'], ['?', '?', '?', '?', '?', '?'], ['?', '?', '?', '?', '?', '?']]\n",
            "\n",
            "\n",
            "\n",
            "\n",
            "If Instance is Negative\n",
            "Step 3\n",
            "['sunny' 'warm' '?' 'strong' 'warm' 'same']\n",
            "[['sunny', '?', '?', '?', '?', '?'], ['?', 'warm', '?', '?', '?', '?'], ['?', '?', '?', '?', '?', '?'], ['?', '?', '?', '?', '?', '?'], ['?', '?', '?', '?', '?', '?'], ['?', '?', '?', '?', '?', 'same']]\n",
            "\n",
            "\n",
            "\n",
            "\n",
            "Step 4\n",
            "['sunny' 'warm' '?' 'strong' '?' '?']\n",
            "[['sunny', '?', '?', '?', '?', '?'], ['?', 'warm', '?', '?', '?', '?'], ['?', '?', '?', '?', '?', '?'], ['?', '?', '?', '?', '?', '?'], ['?', '?', '?', '?', '?', '?'], ['?', '?', '?', '?', '?', '?']]\n",
            "\n",
            "\n",
            "\n",
            "\n",
            "Final Specific_h:\n",
            "['sunny' 'warm' '?' 'strong' '?' '?']\n",
            "Final General_h:\n",
            "[['sunny', '?', '?', '?', '?', '?'], ['?', 'warm', '?', '?', '?', '?'], ['?', '?', '?', '?', '?', '?'], ['?', '?', '?', '?', '?', '?'], ['?', '?', '?', '?', '?', '?'], ['?', '?', '?', '?', '?', '?']]\n"
          ]
        }
      ],
      "source": [
        "import numpy as np\n",
        "import  pandas as pd\n",
        "\n",
        "data=pd.read_csv('/content/data.csv')\n",
        "concepts=np.array(data.iloc[:,0:-1])\n",
        "target=np.array(data.iloc[:,-1])\n",
        "def learn(concepts,target):\n",
        "    specific_h=concepts[0].copy()\n",
        "    print(\"Initialization of specific_h \\n\",specific_h)\n",
        "    general_h=[[\"?\" for i in range(len(specific_h))] for i in range(len(specific_h))]\n",
        "    print(\"Initialization of general_h \\n\",general_h)\n",
        "    for i,h in enumerate(concepts):\n",
        "        if target[i]==\"yes\":\n",
        "            for x in range(len(specific_h)):\n",
        "                if h[x]!=specific_h[x]:\n",
        "                    specific_h[x]='?'\n",
        "                    general_h[x][x]='?'\n",
        "        if target[i]==\"no\":\n",
        "            print(\"If Instance is Negative\")\n",
        "            for x in range(len(specific_h)):\n",
        "                if h[x]!=specific_h[x]:\n",
        "                    general_h[x][x]=specific_h[x]\n",
        "                else:\n",
        "                    general_h[x][x]='?'\n",
        "        print(\"Step {}\".format(i+1))\n",
        "        print(specific_h)\n",
        "        print(general_h)\n",
        "        print(\"\\n\")\n",
        "        print(\"\\n\")\n",
        "    indices=[i for i,val in enumerate(general_h) if val==['?','?','?','?','?']]\n",
        "    for i in indices:\n",
        "        general_h.remove(['?','?','?','?','?'])\n",
        "    return specific_h,general_h\n",
        "s_final,g_final=learn(concepts,target)\n",
        "print(\"Final Specific_h:\",s_final,sep=\"\\n\")\n",
        "print(\"Final General_h:\",g_final,sep=\"\\n\")"
      ]
    }
  ]
}